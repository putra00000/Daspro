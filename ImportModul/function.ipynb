{
 "cells": [
  {
   "cell_type": "code",
   "execution_count": 1,
   "id": "c5ab8a00-4e8c-4a1c-a114-fd5f9569da9d",
   "metadata": {},
   "outputs": [
    {
     "name": "stdout",
     "output_type": "stream",
     "text": [
      "2025-05-28\n",
      "Sekarang kerja\n"
     ]
    }
   ],
   "source": [
    "#Function tanpa parameter\n",
    "#Prosedur\n",
    "import datetime\n",
    "def showDate():\n",
    "    today = datetime.date.today()\n",
    "    print(today)\n",
    "\n",
    "def isWeekday():\n",
    "    day = datetime.date.today().weekday()\n",
    "    if day >= 5:\n",
    "        print(\"Sekarang libur\")\n",
    "    else:\n",
    "        print(\"Sekarang kerja\")\n",
    "\n",
    "showDate()\n",
    "isWeekday()"
   ]
  },
  {
   "cell_type": "code",
   "execution_count": 37,
   "id": "60f4b4fa-b93e-4dd4-ada0-c6b7aaad08ae",
   "metadata": {},
   "outputs": [
    {
     "name": "stdout",
     "output_type": "stream",
     "text": [
      "Andi Raharja Rahmat,S.kom \n"
     ]
    }
   ],
   "source": [
    "#Function dengan parameter\n",
    "def getFullName(firts, middle, last):\n",
    "    return f\"{firts} {middle} {last},S.kom \"\n",
    "\n",
    "print (getFullName(\"Andi\",\"Raharja\",\"Rahmat\"))"
   ]
  },
  {
   "cell_type": "code",
   "execution_count": 63,
   "id": "07977eb7-ef1c-4917-b2dd-5dee4ddb8972",
   "metadata": {},
   "outputs": [
    {
     "name": "stdout",
     "output_type": "stream",
     "text": [
      "Hasil penjumlahan:15\n",
      "Hasil perkalian: 50\n",
      "Penjumlahan 3 dan 5: 15\n",
      "perkalian 4 dan 5: 20\n",
      "Penjumlahan 15 dan 20: 35\n"
     ]
    }
   ],
   "source": [
    "def add(num1,num2):\n",
    "    return num1 + num2\n",
    "\n",
    "def multiply(num1,num2):\n",
    "            return num1*num2\n",
    "\n",
    "def aritmathic(num1,num2):\n",
    "    add = num1+num2\n",
    "    multiply = num1 * num2\n",
    "    return add,multiply\n",
    "\n",
    "r1 = add(5,10)\n",
    "r2 = multiply(4,5)\n",
    "r3 = add(r1,r2)\n",
    "\n",
    "r4,r5 = aritmathic(10,5)\n",
    "print(f\"Hasil penjumlahan:{r4}\")\n",
    "print(f\"Hasil perkalian: {r5}\")\n",
    "\n",
    "print(f\"Penjumlahan 3 dan 5: {r1}\")\n",
    "print(f\"perkalian 4 dan 5: {r2}\")\n",
    "print(f\"Penjumlahan {r1} dan {r2}: {r3}\")"
   ]
  },
  {
   "cell_type": "code",
   "execution_count": 57,
   "id": "2f3156f2-9597-46cf-a1a4-0c9da0af88b3",
   "metadata": {},
   "outputs": [
    {
     "name": "stdout",
     "output_type": "stream",
     "text": [
      "Registration in successfull\n",
      "Username:Andi\n",
      "Password: 12345\n",
      "Status:False\n",
      "Role:admin\n"
     ]
    }
   ],
   "source": [
    "#Function dengan nilai default\n",
    "def userRegistration(username,password,status=False,role=\"user\"):\n",
    "    result = \"Registration in successfull\\n\"\n",
    "    result += f\"Username:{username}\\n\"\n",
    "    result += f\"Password: {password}\\n\"\n",
    "    result += f\"Status:{status}\\n\"\n",
    "    result += f\"Role:{role}\"\n",
    "    return result\n",
    "\n",
    "print(userRegistration(\"Andi\",\"12345\",role =\"admin\"))"
   ]
  },
  {
   "cell_type": "code",
   "execution_count": 76,
   "id": "a0ea6b5f-16f5-4b80-b454-1e2d7af907e8",
   "metadata": {},
   "outputs": [
    {
     "name": "stdout",
     "output_type": "stream",
     "text": [
      "Mon\n",
      "{'name': 'Andi', 'birthday': '17/08/45'}\n",
      "Andi\n",
      "17/08/45\n"
     ]
    }
   ],
   "source": [
    "def printData(*arg,**kwarg):\n",
    "    return arg,kwarg\n",
    "\n",
    "arg,kwarg = (printData(\"Mon\",\"Tue\",\"Wed\",name=\"Andi\",birthday=\"17/08/45\"))\n",
    "print(arg[0])\n",
    "print(kwarg)\n",
    "\n",
    "for i in kwarg.items():\n",
    "    print(i[1])"
   ]
  },
  {
   "cell_type": "code",
   "execution_count": 100,
   "id": "0cce7a0f-44ff-489e-989a-f44261bcfcab",
   "metadata": {},
   "outputs": [
    {
     "name": "stdout",
     "output_type": "stream",
     "text": [
      "120\n"
     ]
    }
   ],
   "source": [
    "#Buatlah function untuk menjumlahkan semua nilai yang ada di parameter\n",
    "#opr = \"*\" -> perkalian, opr = \"+\" -> sum\n",
    "def Hasil(*arg,**kwarg):\n",
    "    add = 0\n",
    "    multiply = 1\n",
    "    for i in arg:\n",
    "        if kwarg[\"opr\"] == \"+\":\n",
    "            add+=i\n",
    "            result = add\n",
    "        elif kwarg[\"opr\"] == \"*\":\n",
    "            multiply*=i\n",
    "            result = multiply\n",
    "    return result\n",
    "\n",
    "print(Hasil(1,2,3,4,5,opr=\"*\"))"
   ]
  },
  {
   "cell_type": "code",
   "execution_count": null,
   "id": "fa5fa8d4-5f66-45a3-86cf-71195c7a9432",
   "metadata": {},
   "outputs": [],
   "source": []
  }
 ],
 "metadata": {
  "kernelspec": {
   "display_name": "Python [conda env:base] *",
   "language": "python",
   "name": "conda-base-py"
  },
  "language_info": {
   "codemirror_mode": {
    "name": "ipython",
    "version": 3
   },
   "file_extension": ".py",
   "mimetype": "text/x-python",
   "name": "python",
   "nbconvert_exporter": "python",
   "pygments_lexer": "ipython3",
   "version": "3.12.7"
  }
 },
 "nbformat": 4,
 "nbformat_minor": 5
}
