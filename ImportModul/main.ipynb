{
 "cells": [
  {
   "cell_type": "code",
   "execution_count": 84,
   "id": "a65f8428-12d8-4140-8dda-62b53a012e7e",
   "metadata": {},
   "outputs": [
    {
     "name": "stdin",
     "output_type": "stream",
     "text": [
      "Angka 1: 2\n",
      "Angka 2: 3\n"
     ]
    },
    {
     "name": "stdout",
     "output_type": "stream",
     "text": [
      "2 + 3 : 5\n",
      "2 * 3 : 6\n",
      "2 ^ 3 : 8\n"
     ]
    }
   ],
   "source": [
    "import aritmatika.math as math\n",
    "\n",
    "num1 = int(input(\"Angka 1:\"))\n",
    "num2 = int(input(\"Angka 2:\"))\n",
    "\n",
    "r1 = math.add(num1,num2)\n",
    "r2 = math.multiply(num1,num2)\n",
    "r3 = math.pow(num1,num2)\n",
    "\n",
    "print(f\"{num1} + {num2} : {r1}\")\n",
    "print(f\"{num1} * {num2} : {r2}\")\n",
    "print(f\"{num1} ^ {num2} : {r3}\")"
   ]
  },
  {
   "cell_type": "code",
   "execution_count": 5,
   "id": "a6abe375-b466-4a0d-9393-61ca736442fd",
   "metadata": {},
   "outputs": [
    {
     "name": "stdin",
     "output_type": "stream",
     "text": [
      "Masukan Panjang :  12\n"
     ]
    },
    {
     "name": "stdout",
     "output_type": "stream",
     "text": [
      "12 CM sama dengan 0.12 M\n",
      "12 M sama dengan 1200 CM\n"
     ]
    }
   ],
   "source": [
    "from konversi.convert import cmToMeter, meterToCm\n",
    "\n",
    "panjang = int(input(\"Masukan Panjang : \"))\n",
    "hasil = cmToMeter(panjang)\n",
    "hasil1 = meterToCm(panjang)\n",
    "print(f\"{panjang} CM sama dengan {hasil} M\")\n",
    "print(f\"{panjang} M sama dengan {hasil1} CM\")"
   ]
  },
  {
   "cell_type": "code",
   "execution_count": 3,
   "id": "f602c94c-6634-4016-bbfb-4f42e71eecb7",
   "metadata": {},
   "outputs": [
    {
     "name": "stdin",
     "output_type": "stream",
     "text": [
      "Masukan Angka :  1234\n"
     ]
    },
    {
     "name": "stdout",
     "output_type": "stream",
     "text": [
      "Desimal: 1234\n",
      "Biner: 10011010010\n",
      "Oktal: 2322\n",
      "Hexa: 4D2\n"
     ]
    }
   ],
   "source": [
    "from Ubah.Change import Biner, Oktal, Hexa\n",
    "a = int(input(\"Masukan Angka : \"))\n",
    "print(\"Desimal:\", a)\n",
    "print(\"Biner:\", Biner(a))\n",
    "print(\"Oktal:\", Oktal(a))\n",
    "print(\"Hexa:\", Hexa(a))"
   ]
  },
  {
   "cell_type": "code",
   "execution_count": 7,
   "id": "1e237017-72b3-41f2-8edd-d47f78545b45",
   "metadata": {},
   "outputs": [],
   "source": [
    "from aritmatika.math import add, multiply, pow\n",
    "from konversi.convert import cmToMeter, meterToCm\n",
    "from Ubah.Change import Biner, Oktal, Hexa\n",
    "def menuUtama():\n",
    "    print(\"\"\"\n",
    "    1.Aritmatika\n",
    "    2.Konversi\n",
    "    3.Ubah\n",
    "    4.Exit\n",
    "    \"\"\")\n",
    "\n",
    "def menuAritmatika():\n",
    "    print(\"\"\"\n",
    "    1. Tambah\n",
    "    2. Kali\n",
    "    3. Pangkat\n",
    "    \"\"\")\n",
    "\n",
    "def menuKonversi():\n",
    "    print(\"\"\"\n",
    "    1. Cm to Meter\n",
    "    2. Meter to Cm\n",
    "    \"\"\")\n",
    "\n",
    "def menuUbah():\n",
    "    print(\"\"\"\n",
    "    1.Desimal ke Biner\n",
    "    2.Desimal ke Octal\n",
    "    3.Desimal ke HexaDesimal\n",
    "    \"\"\")"
   ]
  },
  {
   "cell_type": "code",
   "execution_count": 13,
   "id": "ee768232-f712-4f8b-b09c-8bfd5caa640d",
   "metadata": {},
   "outputs": [
    {
     "name": "stdout",
     "output_type": "stream",
     "text": [
      "\n",
      "    1.Aritmatika\n",
      "    2.Konversi\n",
      "    3.Ubah\n",
      "    4.Exit\n",
      "    \n"
     ]
    },
    {
     "name": "stdin",
     "output_type": "stream",
     "text": [
      "Pilih Menu: 1\n"
     ]
    },
    {
     "name": "stdout",
     "output_type": "stream",
     "text": [
      "\n",
      "    1. Tambah\n",
      "    2. Kali\n",
      "    3. Pangkat\n",
      "    \n"
     ]
    },
    {
     "name": "stdin",
     "output_type": "stream",
     "text": [
      "Masukan operator :  1\n",
      "Masukan angka pertama : 1\n",
      "Masukan angka kedua : 1\n"
     ]
    },
    {
     "name": "stdout",
     "output_type": "stream",
     "text": [
      "Hasil Penjumlahan : 2\n",
      "\n",
      "    1.Aritmatika\n",
      "    2.Konversi\n",
      "    3.Ubah\n",
      "    4.Exit\n",
      "    \n"
     ]
    },
    {
     "name": "stdin",
     "output_type": "stream",
     "text": [
      "Pilih Menu: 1\n"
     ]
    },
    {
     "name": "stdout",
     "output_type": "stream",
     "text": [
      "\n",
      "    1. Tambah\n",
      "    2. Kali\n",
      "    3. Pangkat\n",
      "    \n"
     ]
    },
    {
     "name": "stdin",
     "output_type": "stream",
     "text": [
      "Masukan operator :  2\n",
      "Masukan angka pertama : 2\n",
      "Masukan angka kedua : 3\n"
     ]
    },
    {
     "name": "stdout",
     "output_type": "stream",
     "text": [
      "Hasil Perkalian : 6\n",
      "\n",
      "    1.Aritmatika\n",
      "    2.Konversi\n",
      "    3.Ubah\n",
      "    4.Exit\n",
      "    \n"
     ]
    },
    {
     "name": "stdin",
     "output_type": "stream",
     "text": [
      "Pilih Menu: 1\n"
     ]
    },
    {
     "name": "stdout",
     "output_type": "stream",
     "text": [
      "\n",
      "    1. Tambah\n",
      "    2. Kali\n",
      "    3. Pangkat\n",
      "    \n"
     ]
    },
    {
     "name": "stdin",
     "output_type": "stream",
     "text": [
      "Masukan operator :  3\n",
      "Masukan angka pertama : 3\n",
      "Masukan angka kedua : 3\n"
     ]
    },
    {
     "name": "stdout",
     "output_type": "stream",
     "text": [
      "Hasil Pangkat : 27\n",
      "\n",
      "    1.Aritmatika\n",
      "    2.Konversi\n",
      "    3.Ubah\n",
      "    4.Exit\n",
      "    \n"
     ]
    },
    {
     "name": "stdin",
     "output_type": "stream",
     "text": [
      "Pilih Menu: 2\n"
     ]
    },
    {
     "name": "stdout",
     "output_type": "stream",
     "text": [
      "\n",
      "    1. Cm to Meter\n",
      "    2. Meter to Cm\n",
      "    \n"
     ]
    },
    {
     "name": "stdin",
     "output_type": "stream",
     "text": [
      "pengen CM ke M atau M ke CM :  1\n",
      "Masukan Panjang CM : 12\n"
     ]
    },
    {
     "name": "stdout",
     "output_type": "stream",
     "text": [
      "Hasil dari konversi Cm ke M adalah : 0.12\n",
      "\n",
      "    1.Aritmatika\n",
      "    2.Konversi\n",
      "    3.Ubah\n",
      "    4.Exit\n",
      "    \n"
     ]
    },
    {
     "name": "stdin",
     "output_type": "stream",
     "text": [
      "Pilih Menu: 2\n"
     ]
    },
    {
     "name": "stdout",
     "output_type": "stream",
     "text": [
      "\n",
      "    1. Cm to Meter\n",
      "    2. Meter to Cm\n",
      "    \n"
     ]
    },
    {
     "name": "stdin",
     "output_type": "stream",
     "text": [
      "pengen CM ke M atau M ke CM :  2\n",
      "Masukan Panjang M : 12\n"
     ]
    },
    {
     "name": "stdout",
     "output_type": "stream",
     "text": [
      "Hasil dari konversi M ke CM adalah : 1200\n",
      "\n",
      "    1.Aritmatika\n",
      "    2.Konversi\n",
      "    3.Ubah\n",
      "    4.Exit\n",
      "    \n"
     ]
    },
    {
     "name": "stdin",
     "output_type": "stream",
     "text": [
      "Pilih Menu: 3\n"
     ]
    },
    {
     "name": "stdout",
     "output_type": "stream",
     "text": [
      "\n",
      "    1.Desimal ke Biner\n",
      "    2.Desimal ke Octal\n",
      "    3.Desimal ke HexaDesimal\n",
      "    \n"
     ]
    },
    {
     "name": "stdin",
     "output_type": "stream",
     "text": [
      "Masukan Opsi Ubah bilangan :  1\n",
      "Masukan angka yang ingin diubah ke biner :  1234\n"
     ]
    },
    {
     "name": "stdout",
     "output_type": "stream",
     "text": [
      "Hasil Ubah bilangan ke Biner :  10011010010\n",
      "\n",
      "    1.Aritmatika\n",
      "    2.Konversi\n",
      "    3.Ubah\n",
      "    4.Exit\n",
      "    \n"
     ]
    },
    {
     "name": "stdin",
     "output_type": "stream",
     "text": [
      "Pilih Menu: 3\n"
     ]
    },
    {
     "name": "stdout",
     "output_type": "stream",
     "text": [
      "\n",
      "    1.Desimal ke Biner\n",
      "    2.Desimal ke Octal\n",
      "    3.Desimal ke HexaDesimal\n",
      "    \n"
     ]
    },
    {
     "name": "stdin",
     "output_type": "stream",
     "text": [
      "Masukan Opsi Ubah bilangan :  2\n",
      "Masukan angka yang ingin di ubah ke octal :  1234\n"
     ]
    },
    {
     "name": "stdout",
     "output_type": "stream",
     "text": [
      "Hasil Ubah bilangan ke Oktal :  2322\n",
      "\n",
      "    1.Aritmatika\n",
      "    2.Konversi\n",
      "    3.Ubah\n",
      "    4.Exit\n",
      "    \n"
     ]
    },
    {
     "name": "stdin",
     "output_type": "stream",
     "text": [
      "Pilih Menu: 3\n"
     ]
    },
    {
     "name": "stdout",
     "output_type": "stream",
     "text": [
      "\n",
      "    1.Desimal ke Biner\n",
      "    2.Desimal ke Octal\n",
      "    3.Desimal ke HexaDesimal\n",
      "    \n"
     ]
    },
    {
     "name": "stdin",
     "output_type": "stream",
     "text": [
      "Masukan Opsi Ubah bilangan :  3\n",
      "Masukan angka yang ingin di ubah ke Hexa :  1234\n"
     ]
    },
    {
     "name": "stdout",
     "output_type": "stream",
     "text": [
      "Hasil Ubah bilangan ke Hexa : 4D2\n",
      "\n",
      "    1.Aritmatika\n",
      "    2.Konversi\n",
      "    3.Ubah\n",
      "    4.Exit\n",
      "    \n"
     ]
    },
    {
     "name": "stdin",
     "output_type": "stream",
     "text": [
      "Pilih Menu: 4\n"
     ]
    },
    {
     "name": "stdout",
     "output_type": "stream",
     "text": [
      "Terima kasih\n"
     ]
    }
   ],
   "source": [
    "while True:\n",
    "    menuUtama()\n",
    "    menu = int(input(\"Pilih Menu:\"))\n",
    "    if menu==1:\n",
    "        menuAritmatika()\n",
    "        menu = int(input(\"Masukan operator : \"))\n",
    "        a = int(input(\"Masukan angka pertama :\"))\n",
    "        b = int(input(\"Masukan angka kedua :\"))\n",
    "        if menu==1:\n",
    "            print(\"Hasil Penjumlahan :\", add(a, b))\n",
    "        elif menu==2:\n",
    "            print(\"Hasil Perkalian :\", multiply(a, b))\n",
    "        elif menu==3:\n",
    "            print(\"Hasil Pangkat :\", pow(a, b))\n",
    "    elif menu==2:\n",
    "        menuKonversi()\n",
    "        menu = int(input(\"pengen CM ke M atau M ke CM : \"))\n",
    "        if menu==1:\n",
    "            a = int(input(\"Masukan Panjang CM :\"))\n",
    "            hasil = cmToMeter(a)\n",
    "            print (f\"Hasil dari konversi Cm ke M adalah : {hasil}\")\n",
    "        elif menu==2:\n",
    "            a = int(input(\"Masukan Panjang M :\"))\n",
    "            hasil = meterToCm(a)\n",
    "            print (f\"Hasil dari konversi M ke CM adalah : {hasil}\")\n",
    "    elif menu==3:\n",
    "        menuUbah()\n",
    "        menu = int(input(\"Masukan Opsi Ubah bilangan : \"))\n",
    "        if menu==1:\n",
    "            a = int(input(\"Masukan angka yang ingin diubah ke biner : \"))\n",
    "            print(\"Hasil Ubah bilangan ke Biner : \", Biner(a))\n",
    "        elif menu==2:\n",
    "            a = int(input(\"Masukan angka yang ingin di ubah ke octal : \"))\n",
    "            print(\"Hasil Ubah bilangan ke Oktal : \", Oktal(a))\n",
    "        elif menu==3:\n",
    "            a = int(input(\"Masukan angka yang ingin di ubah ke Hexa : \"))\n",
    "            print(\"Hasil Ubah bilangan ke Hexa :\", Hexa(a))\n",
    "    elif menu==4:\n",
    "        print(\"Terima kasih\")\n",
    "        break"
   ]
  },
  {
   "cell_type": "code",
   "execution_count": null,
   "id": "3b0a8ffa-6c0c-4e09-9766-4124072167d2",
   "metadata": {},
   "outputs": [],
   "source": []
  },
  {
   "cell_type": "code",
   "execution_count": null,
   "id": "b7606634-f6da-4ae2-a48b-fe601e33b0fe",
   "metadata": {},
   "outputs": [],
   "source": []
  }
 ],
 "metadata": {
  "kernelspec": {
   "display_name": "Python [conda env:base] *",
   "language": "python",
   "name": "conda-base-py"
  },
  "language_info": {
   "codemirror_mode": {
    "name": "ipython",
    "version": 3
   },
   "file_extension": ".py",
   "mimetype": "text/x-python",
   "name": "python",
   "nbconvert_exporter": "python",
   "pygments_lexer": "ipython3",
   "version": "3.12.7"
  }
 },
 "nbformat": 4,
 "nbformat_minor": 5
}
